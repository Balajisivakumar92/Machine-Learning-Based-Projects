{
 "cells": [
  {
   "cell_type": "code",
   "execution_count": 1,
   "metadata": {
    "collapsed": false
   },
   "outputs": [
    {
     "name": "stderr",
     "output_type": "stream",
     "text": [
      "/usr/local/lib/python2.7/dist-packages/pandas/_libs/__init__.py:4: RuntimeWarning: numpy.dtype size changed, may indicate binary incompatibility. Expected 96, got 88\n",
      "  from .tslib import iNaT, NaT, Timestamp, Timedelta, OutOfBoundsDatetime\n",
      "/usr/local/lib/python2.7/dist-packages/pandas/__init__.py:26: RuntimeWarning: numpy.dtype size changed, may indicate binary incompatibility. Expected 96, got 88\n",
      "  from pandas._libs import (hashtable as _hashtable,\n",
      "/usr/local/lib/python2.7/dist-packages/pandas/core/dtypes/common.py:6: RuntimeWarning: numpy.dtype size changed, may indicate binary incompatibility. Expected 96, got 88\n",
      "  from pandas._libs import algos, lib\n",
      "/usr/local/lib/python2.7/dist-packages/pandas/core/util/hashing.py:7: RuntimeWarning: numpy.dtype size changed, may indicate binary incompatibility. Expected 96, got 88\n",
      "  from pandas._libs import hashing, tslib\n",
      "/usr/local/lib/python2.7/dist-packages/pandas/core/indexes/base.py:7: RuntimeWarning: numpy.dtype size changed, may indicate binary incompatibility. Expected 96, got 88\n",
      "  from pandas._libs import (lib, index as libindex, tslib as libts,\n",
      "/usr/local/lib/python2.7/dist-packages/pandas/tseries/offsets.py:21: RuntimeWarning: numpy.dtype size changed, may indicate binary incompatibility. Expected 96, got 88\n",
      "  import pandas._libs.tslibs.offsets as liboffsets\n",
      "/usr/local/lib/python2.7/dist-packages/pandas/core/ops.py:16: RuntimeWarning: numpy.dtype size changed, may indicate binary incompatibility. Expected 96, got 88\n",
      "  from pandas._libs import algos as libalgos, ops as libops\n",
      "/usr/local/lib/python2.7/dist-packages/pandas/core/indexes/interval.py:32: RuntimeWarning: numpy.dtype size changed, may indicate binary incompatibility. Expected 96, got 88\n",
      "  from pandas._libs.interval import (\n",
      "/usr/local/lib/python2.7/dist-packages/pandas/core/internals.py:14: RuntimeWarning: numpy.dtype size changed, may indicate binary incompatibility. Expected 96, got 88\n",
      "  from pandas._libs import internals as libinternals\n",
      "/usr/local/lib/python2.7/dist-packages/pandas/core/sparse/array.py:33: RuntimeWarning: numpy.dtype size changed, may indicate binary incompatibility. Expected 96, got 88\n",
      "  import pandas._libs.sparse as splib\n",
      "/usr/local/lib/python2.7/dist-packages/pandas/core/window.py:36: RuntimeWarning: numpy.dtype size changed, may indicate binary incompatibility. Expected 96, got 88\n",
      "  import pandas._libs.window as _window\n",
      "/usr/local/lib/python2.7/dist-packages/pandas/core/groupby/groupby.py:68: RuntimeWarning: numpy.dtype size changed, may indicate binary incompatibility. Expected 96, got 88\n",
      "  from pandas._libs import (lib, reduction,\n",
      "/usr/local/lib/python2.7/dist-packages/pandas/core/reshape/reshape.py:30: RuntimeWarning: numpy.dtype size changed, may indicate binary incompatibility. Expected 96, got 88\n",
      "  from pandas._libs import algos as _algos, reshape as _reshape\n",
      "/usr/local/lib/python2.7/dist-packages/pandas/io/parsers.py:45: RuntimeWarning: numpy.dtype size changed, may indicate binary incompatibility. Expected 96, got 88\n",
      "  import pandas._libs.parsers as parsers\n",
      "/usr/local/lib/python2.7/dist-packages/pandas/io/pytables.py:50: RuntimeWarning: numpy.dtype size changed, may indicate binary incompatibility. Expected 96, got 88\n",
      "  from pandas._libs import algos, lib, writers as libwriters\n",
      "/usr/local/lib/python2.7/dist-packages/sklearn/utils/__init__.py:9: RuntimeWarning: numpy.dtype size changed, may indicate binary incompatibility. Expected 96, got 88\n",
      "  from .murmurhash import murmurhash3_32\n",
      "/usr/local/lib/python2.7/dist-packages/sklearn/svm/base.py:8: RuntimeWarning: numpy.dtype size changed, may indicate binary incompatibility. Expected 96, got 88\n",
      "  from . import libsvm, liblinear\n",
      "/usr/local/lib/python2.7/dist-packages/sklearn/svm/base.py:9: RuntimeWarning: numpy.dtype size changed, may indicate binary incompatibility. Expected 96, got 88\n",
      "  from . import libsvm_sparse\n",
      "/usr/local/lib/python2.7/dist-packages/sklearn/utils/extmath.py:24: RuntimeWarning: numpy.dtype size changed, may indicate binary incompatibility. Expected 96, got 88\n",
      "  from ._logistic_sigmoid import _log_logistic_sigmoid\n",
      "/usr/local/lib/python2.7/dist-packages/sklearn/utils/extmath.py:26: RuntimeWarning: numpy.dtype size changed, may indicate binary incompatibility. Expected 96, got 88\n",
      "  from .sparsefuncs_fast import csr_row_norms\n",
      "/usr/local/lib/python2.7/dist-packages/sklearn/linear_model/base.py:35: RuntimeWarning: numpy.dtype size changed, may indicate binary incompatibility. Expected 96, got 88\n",
      "  from ..utils.seq_dataset import ArrayDataset, CSRDataset\n",
      "/usr/local/lib/python2.7/dist-packages/sklearn/linear_model/least_angle.py:23: RuntimeWarning: numpy.dtype size changed, may indicate binary incompatibility. Expected 96, got 88\n",
      "  from ..utils import arrayfuncs, as_float_array, check_X_y, deprecated\n",
      "/usr/local/lib/python2.7/dist-packages/sklearn/metrics/cluster/supervised.py:23: RuntimeWarning: numpy.dtype size changed, may indicate binary incompatibility. Expected 96, got 88\n",
      "  from .expected_mutual_info_fast import expected_mutual_information\n",
      "/usr/local/lib/python2.7/dist-packages/sklearn/metrics/pairwise.py:30: RuntimeWarning: numpy.dtype size changed, may indicate binary incompatibility. Expected 96, got 88\n",
      "  from .pairwise_fast import _chi2_kernel_fast, _sparse_manhattan\n",
      "/usr/local/lib/python2.7/dist-packages/sklearn/utils/random.py:10: RuntimeWarning: numpy.dtype size changed, may indicate binary incompatibility. Expected 96, got 88\n",
      "  from ._random import sample_without_replacement\n",
      "/usr/local/lib/python2.7/dist-packages/sklearn/linear_model/coordinate_descent.py:29: RuntimeWarning: numpy.dtype size changed, may indicate binary incompatibility. Expected 96, got 88\n",
      "  from . import cd_fast\n",
      "/usr/local/lib/python2.7/dist-packages/sklearn/linear_model/__init__.py:22: RuntimeWarning: numpy.dtype size changed, may indicate binary incompatibility. Expected 96, got 88\n",
      "  from .sgd_fast import Hinge, Log, ModifiedHuber, SquaredLoss, Huber\n",
      "/usr/local/lib/python2.7/dist-packages/sklearn/linear_model/sag.py:12: RuntimeWarning: numpy.dtype size changed, may indicate binary incompatibility. Expected 96, got 88\n",
      "  from .sag_fast import sag\n",
      "/usr/local/lib/python2.7/dist-packages/sklearn/neighbors/__init__.py:6: RuntimeWarning: numpy.dtype size changed, may indicate binary incompatibility. Expected 96, got 88\n",
      "  from .ball_tree import BallTree\n",
      "/usr/local/lib/python2.7/dist-packages/sklearn/neighbors/__init__.py:7: RuntimeWarning: numpy.dtype size changed, may indicate binary incompatibility. Expected 96, got 88\n",
      "  from .kd_tree import KDTree\n"
     ]
    }
   ],
   "source": [
    "import pandas as pd\n",
    "import numpy as np\n",
    "from sklearn import svm"
   ]
  },
  {
   "cell_type": "code",
   "execution_count": 2,
   "metadata": {
    "collapsed": false
   },
   "outputs": [
    {
     "data": {
      "text/html": [
       "<div>\n",
       "<style scoped>\n",
       "    .dataframe tbody tr th:only-of-type {\n",
       "        vertical-align: middle;\n",
       "    }\n",
       "\n",
       "    .dataframe tbody tr th {\n",
       "        vertical-align: top;\n",
       "    }\n",
       "\n",
       "    .dataframe thead th {\n",
       "        text-align: right;\n",
       "    }\n",
       "</style>\n",
       "<table border=\"1\" class=\"dataframe\">\n",
       "  <thead>\n",
       "    <tr style=\"text-align: right;\">\n",
       "      <th></th>\n",
       "      <th>teaching</th>\n",
       "      <th>Teaching_1</th>\n",
       "      <th>coursecontent</th>\n",
       "      <th>coursecontent.1</th>\n",
       "      <th>examination</th>\n",
       "      <th>Examination</th>\n",
       "      <th>labwork</th>\n",
       "      <th>labwork.1</th>\n",
       "      <th>library_facilities</th>\n",
       "      <th>library_facilities</th>\n",
       "      <th>extracurricular</th>\n",
       "      <th>extracurricular.1</th>\n",
       "    </tr>\n",
       "  </thead>\n",
       "  <tbody>\n",
       "    <tr>\n",
       "      <th>0</th>\n",
       "      <td>-1</td>\n",
       "      <td>bad</td>\n",
       "      <td>0.0</td>\n",
       "      <td>content of courses are average</td>\n",
       "      <td>1.0</td>\n",
       "      <td>examination pattern is good</td>\n",
       "      <td>-1</td>\n",
       "      <td>not satisfactory, lab work must include latest...</td>\n",
       "      <td>0.0</td>\n",
       "      <td>library facilities are good but number of book...</td>\n",
       "      <td>1</td>\n",
       "      <td>extracurricular activities are excellent and p...</td>\n",
       "    </tr>\n",
       "    <tr>\n",
       "      <th>1</th>\n",
       "      <td>1</td>\n",
       "      <td>Good</td>\n",
       "      <td>-1.0</td>\n",
       "      <td>Not good</td>\n",
       "      <td>1.0</td>\n",
       "      <td>Good</td>\n",
       "      <td>1</td>\n",
       "      <td>Good</td>\n",
       "      <td>-1.0</td>\n",
       "      <td>Not good</td>\n",
       "      <td>1</td>\n",
       "      <td>Good</td>\n",
       "    </tr>\n",
       "    <tr>\n",
       "      <th>2</th>\n",
       "      <td>1</td>\n",
       "      <td>Excellent lectures are delivered by teachers a...</td>\n",
       "      <td>1.0</td>\n",
       "      <td>All courses material provide very good knowled...</td>\n",
       "      <td>1.0</td>\n",
       "      <td>Exam pattern is up to the mark and the Cgpa de...</td>\n",
       "      <td>1</td>\n",
       "      <td>Lab work is properly covered in the labs by th...</td>\n",
       "      <td>1.0</td>\n",
       "      <td>Library facilities are excellent in terms of g...</td>\n",
       "      <td>1</td>\n",
       "      <td>Extra curricular activities also help students...</td>\n",
       "    </tr>\n",
       "    <tr>\n",
       "      <th>3</th>\n",
       "      <td>1</td>\n",
       "      <td>Good</td>\n",
       "      <td>-1.0</td>\n",
       "      <td>Content of course is perfectly in line with th...</td>\n",
       "      <td>-1.0</td>\n",
       "      <td>Again the university tests students of their a...</td>\n",
       "      <td>1</td>\n",
       "      <td>Good</td>\n",
       "      <td>0.0</td>\n",
       "      <td>Its the best thing i have seen in this univers...</td>\n",
       "      <td>-1</td>\n",
       "      <td>Complete wastage of time. Again this opinion i...</td>\n",
       "    </tr>\n",
       "    <tr>\n",
       "      <th>4</th>\n",
       "      <td>1</td>\n",
       "      <td>teachers give us all the information required ...</td>\n",
       "      <td>1.0</td>\n",
       "      <td>content of courses improves my knowledge</td>\n",
       "      <td>1.0</td>\n",
       "      <td>examination pattern is good</td>\n",
       "      <td>1</td>\n",
       "      <td>practical work provides detail knowledge of th...</td>\n",
       "      <td>1.0</td>\n",
       "      <td>library has huge collection of books from diff...</td>\n",
       "      <td>1</td>\n",
       "      <td>extracurricular activities increases mental an...</td>\n",
       "    </tr>\n",
       "    <tr>\n",
       "      <th>5</th>\n",
       "      <td>1</td>\n",
       "      <td>Yes</td>\n",
       "      <td>1.0</td>\n",
       "      <td>Yes</td>\n",
       "      <td>1.0</td>\n",
       "      <td>Yes</td>\n",
       "      <td>1</td>\n",
       "      <td>Yes</td>\n",
       "      <td>1.0</td>\n",
       "      <td>Yes</td>\n",
       "      <td>1</td>\n",
       "      <td>Yes</td>\n",
       "    </tr>\n",
       "    <tr>\n",
       "      <th>6</th>\n",
       "      <td>-1</td>\n",
       "      <td>our college aptitude class was very bored and ...</td>\n",
       "      <td>1.0</td>\n",
       "      <td>Good</td>\n",
       "      <td>1.0</td>\n",
       "      <td>Good</td>\n",
       "      <td>1</td>\n",
       "      <td>Good</td>\n",
       "      <td>1.0</td>\n",
       "      <td>Hardworking</td>\n",
       "      <td>0</td>\n",
       "      <td>No views</td>\n",
       "    </tr>\n",
       "    <tr>\n",
       "      <th>7</th>\n",
       "      <td>1</td>\n",
       "      <td>It is good</td>\n",
       "      <td>1.0</td>\n",
       "      <td>This semester university has provide best teac...</td>\n",
       "      <td>1.0</td>\n",
       "      <td>I like the question pattern</td>\n",
       "      <td>1</td>\n",
       "      <td>Everything is going fine in lab . learning new...</td>\n",
       "      <td>0.0</td>\n",
       "      <td>I am satisfied with the facilities but few boo...</td>\n",
       "      <td>0</td>\n",
       "      <td>No idea about the extracurricular activities.</td>\n",
       "    </tr>\n",
       "    <tr>\n",
       "      <th>8</th>\n",
       "      <td>0</td>\n",
       "      <td>waste of time</td>\n",
       "      <td>-1.0</td>\n",
       "      <td>Needs some improvement</td>\n",
       "      <td>1.0</td>\n",
       "      <td>Good</td>\n",
       "      <td>1</td>\n",
       "      <td>Good</td>\n",
       "      <td>-1.0</td>\n",
       "      <td>Its required some libral in rules</td>\n",
       "      <td>1</td>\n",
       "      <td>Good it provides a great platform</td>\n",
       "    </tr>\n",
       "    <tr>\n",
       "      <th>9</th>\n",
       "      <td>1</td>\n",
       "      <td>Good</td>\n",
       "      <td>-1.0</td>\n",
       "      <td>Needs some improvement</td>\n",
       "      <td>1.0</td>\n",
       "      <td>Good</td>\n",
       "      <td>1</td>\n",
       "      <td>Good</td>\n",
       "      <td>-1.0</td>\n",
       "      <td>Its required some libral in rules</td>\n",
       "      <td>1</td>\n",
       "      <td>Good it provides a great platform</td>\n",
       "    </tr>\n",
       "  </tbody>\n",
       "</table>\n",
       "</div>"
      ],
      "text/plain": [
       "   teaching                                         Teaching_1  coursecontent  \\\n",
       "0        -1                                                bad            0.0   \n",
       "1         1                                              Good            -1.0   \n",
       "2         1  Excellent lectures are delivered by teachers a...            1.0   \n",
       "3         1                                               Good           -1.0   \n",
       "4         1  teachers give us all the information required ...            1.0   \n",
       "5         1                                                Yes            1.0   \n",
       "6        -1  our college aptitude class was very bored and ...            1.0   \n",
       "7         1                                         It is good            1.0   \n",
       "8         0                                      waste of time           -1.0   \n",
       "9         1                                               Good           -1.0   \n",
       "\n",
       "                                     coursecontent.1  examination  \\\n",
       "0                     content of courses are average          1.0   \n",
       "1                                           Not good          1.0   \n",
       "2  All courses material provide very good knowled...          1.0   \n",
       "3  Content of course is perfectly in line with th...         -1.0   \n",
       "4           content of courses improves my knowledge          1.0   \n",
       "5                                                Yes          1.0   \n",
       "6                                               Good          1.0   \n",
       "7  This semester university has provide best teac...          1.0   \n",
       "8                             Needs some improvement          1.0   \n",
       "9                             Needs some improvement          1.0   \n",
       "\n",
       "                                         Examination  labwork  \\\n",
       "0                        examination pattern is good       -1   \n",
       "1                                               Good        1   \n",
       "2  Exam pattern is up to the mark and the Cgpa de...        1   \n",
       "3  Again the university tests students of their a...        1   \n",
       "4                        examination pattern is good        1   \n",
       "5                                                Yes        1   \n",
       "6                                               Good        1   \n",
       "7                        I like the question pattern        1   \n",
       "8                                               Good        1   \n",
       "9                                               Good        1   \n",
       "\n",
       "                                           labwork.1  library_facilities  \\\n",
       "0  not satisfactory, lab work must include latest...                 0.0   \n",
       "1                                              Good                 -1.0   \n",
       "2  Lab work is properly covered in the labs by th...                 1.0   \n",
       "3                                               Good                 0.0   \n",
       "4  practical work provides detail knowledge of th...                 1.0   \n",
       "5                                                Yes                 1.0   \n",
       "6                                               Good                 1.0   \n",
       "7  Everything is going fine in lab . learning new...                 0.0   \n",
       "8                                               Good                -1.0   \n",
       "9                                               Good                -1.0   \n",
       "\n",
       "                                  library_facilities  extracurricular  \\\n",
       "0  library facilities are good but number of book...                1   \n",
       "1                                          Not good                 1   \n",
       "2  Library facilities are excellent in terms of g...                1   \n",
       "3  Its the best thing i have seen in this univers...               -1   \n",
       "4  library has huge collection of books from diff...                1   \n",
       "5                                                Yes                1   \n",
       "6                                        Hardworking                0   \n",
       "7  I am satisfied with the facilities but few boo...                0   \n",
       "8                  Its required some libral in rules                1   \n",
       "9                  Its required some libral in rules                1   \n",
       "\n",
       "                                   extracurricular.1  \n",
       "0  extracurricular activities are excellent and p...  \n",
       "1                                              Good   \n",
       "2  Extra curricular activities also help students...  \n",
       "3  Complete wastage of time. Again this opinion i...  \n",
       "4  extracurricular activities increases mental an...  \n",
       "5                                                Yes  \n",
       "6                                           No views  \n",
       "7     No idea about the extracurricular activities.   \n",
       "8                  Good it provides a great platform  \n",
       "9                  Good it provides a great platform  "
      ]
     },
     "execution_count": 2,
     "metadata": {},
     "output_type": "execute_result"
    }
   ],
   "source": [
    "df = pd.read_excel('modified dataset for sentiment analysis.xlsx',header=0, delimiter=\"\\t\", quoting=3)\n",
    "df.dropna(inplace=True)\n",
    "df.head(10)"
   ]
  },
  {
   "cell_type": "code",
   "execution_count": 3,
   "metadata": {
    "collapsed": false
   },
   "outputs": [],
   "source": [
    "from sklearn.model_selection import train_test_split\n",
    "df[\"teaching_FB\"]=np.where(df['teaching']>0,1,-1)\n",
    "X_train, X_test, Y_train, Y_test = train_test_split(df['Teaching_1'],df['teaching'],random_state=0)"
   ]
  },
  {
   "cell_type": "code",
   "execution_count": null,
   "metadata": {
    "collapsed": false
   },
   "outputs": [],
   "source": [
    "#X = df.iloc[ : , 1:-10]\n",
    "#Y = df.iloc[:, 0:1].values"
   ]
  },
  {
   "cell_type": "code",
   "execution_count": null,
   "metadata": {
    "collapsed": false
   },
   "outputs": [],
   "source": [
    "#from sklearn.cross_validation import train_test_split\n",
    "#X_train, X_test, Y_train, Y_test = train_test_split( X , Y , test_size = 0.2, random_state = 0)\n"
   ]
  },
  {
   "cell_type": "code",
   "execution_count": 5,
   "metadata": {
    "collapsed": false
   },
   "outputs": [
    {
     "data": {
      "text/plain": [
       "[(u'good', 65),\n",
       " (u'is', 61),\n",
       " (u'the', 41),\n",
       " (u'and', 40),\n",
       " (u'of', 38),\n",
       " (u'are', 31),\n",
       " (u'', 30),\n",
       " (u'but', 24),\n",
       " (u'not', 21),\n",
       " (u'Good', 21),\n",
       " (u'in', 21),\n",
       " (u'delivery', 21)]"
      ]
     },
     "execution_count": 5,
     "metadata": {},
     "output_type": "execute_result"
    }
   ],
   "source": [
    "from collections import Counter\n",
    "\n",
    "count_vocab = Counter()\n",
    "for txt in X_train:\n",
    "    for word in txt.split(' '):\n",
    "        count_vocab[word] += 1\n",
    "        \n",
    "count_vocab.most_common(12)"
   ]
  },
  {
   "cell_type": "code",
   "execution_count": 6,
   "metadata": {
    "collapsed": false
   },
   "outputs": [
    {
     "name": "stderr",
     "output_type": "stream",
     "text": [
      "/usr/local/lib/python2.7/dist-packages/sklearn/feature_extraction/hashing.py:10: RuntimeWarning: numpy.dtype size changed, may indicate binary incompatibility. Expected 96, got 88\n",
      "  from . import _hashing\n",
      "/usr/local/lib/python2.7/dist-packages/sklearn/datasets/svmlight_format.py:25: RuntimeWarning: numpy.dtype size changed, may indicate binary incompatibility. Expected 96, got 88\n",
      "  from ._svmlight_format import _load_svmlight_file\n"
     ]
    },
    {
     "name": "stdout",
     "output_type": "stream",
     "text": [
      "[nltk_data] Downloading package stopwords to /home/asus/nltk_data...\n",
      "[nltk_data]   Package stopwords is already up-to-date!\n"
     ]
    },
    {
     "data": {
      "text/plain": [
       "True"
      ]
     },
     "execution_count": 6,
     "metadata": {},
     "output_type": "execute_result"
    }
   ],
   "source": [
    "import nltk\n",
    "nltk.download('stopwords')"
   ]
  },
  {
   "cell_type": "code",
   "execution_count": 8,
   "metadata": {
    "collapsed": false
   },
   "outputs": [
    {
     "data": {
      "text/plain": [
       "[(u'good', 65),\n",
       " (u'', 30),\n",
       " (u'Good', 21),\n",
       " (u'delivery', 21),\n",
       " (u'teaching', 18),\n",
       " (u'lecture', 17),\n",
       " (u'university', 16),\n",
       " (u'teachers', 14),\n",
       " (u'students', 13),\n",
       " (u'interaction', 12),\n",
       " (u'terms', 11),\n",
       " (u'punctuality', 10),\n",
       " (u'faculty', 8),\n",
       " (u'teacher', 7)]"
      ]
     },
     "execution_count": 8,
     "metadata": {},
     "output_type": "execute_result"
    }
   ],
   "source": [
    "from nltk.corpus import stopwords\n",
    "stop = stopwords.words('english')\n",
    "\n",
    "vocab_reduced = Counter()\n",
    "for w, c in count_vocab.items():\n",
    "    if not w in stop:\n",
    "        vocab_reduced[w] = c\n",
    "vocab_reduced.most_common(14)"
   ]
  },
  {
   "cell_type": "code",
   "execution_count": 9,
   "metadata": {
    "collapsed": false
   },
   "outputs": [
    {
     "name": "stdout",
     "output_type": "stream",
     "text": [
      "this twit man is nice :)\n"
     ]
    }
   ],
   "source": [
    "import re\n",
    "\n",
    "def preprocessor(text):\n",
    "    \n",
    "    #remove HTML markup\n",
    "    text = re.sub('<[^>]*>', '', text)\n",
    "    emoticons = re.findall('(?::|;|=)(?:-)?(?:\\)|\\(|D|P)', text)\n",
    "    # Remove any non-word character and append the emoticons,\n",
    "    # removing the nose character for standarization. Convert to lower case\n",
    "    text = (re.sub('[\\W]+', ' ', text.lower()) + ' ' + ' '.join(emoticons).replace('-', ''))\n",
    "    return text\n",
    "\n",
    "print(preprocessor('This!! twit man :) is <b>nice</b>'))"
   ]
  },
  {
   "cell_type": "code",
   "execution_count": 10,
   "metadata": {
    "collapsed": false
   },
   "outputs": [
    {
     "name": "stdout",
     "output_type": "stream",
     "text": [
      "['Hi', 'there,', 'I', 'am', 'loving', 'this,', 'like', 'with', 'a', 'lot', 'of', 'love']\n",
      "['Hi', 'there,', 'I', 'am', u'love', 'this,', 'like', 'with', 'a', 'lot', 'of', 'love']\n"
     ]
    }
   ],
   "source": [
    "from nltk.stem import PorterStemmer\n",
    "porter = PorterStemmer()\n",
    "\n",
    "def tokenizer(text):\n",
    "    return text.split()\n",
    "\n",
    "def tokenizer_porter(text):\n",
    "    return [porter.stem(word) for word in text.split()]\n",
    "\n",
    "print(tokenizer('Hi there, I am loving this, like with a lot of love'))\n",
    "print(tokenizer_porter('Hi there, I am loving this, like with a lot of love'))"
   ]
  },
  {
   "cell_type": "code",
   "execution_count": 11,
   "metadata": {
    "collapsed": true
   },
   "outputs": [],
   "source": [
    "from sklearn.model_selection import GridSearchCV\n",
    "from sklearn.pipeline import Pipeline\n",
    "from sklearn.svm import LinearSVC\n",
    "from sklearn.feature_extraction.text import TfidfVectorizer\n",
    "\n",
    "tfidf = TfidfVectorizer(strip_accents=None,lowercase=False,preprocessor=None)\n",
    "param_grid = [{'vect__ngram_range': [(1, 1)],\n",
    "               'vect__stop_words': [stop, None],\n",
    "               'vect__tokenizer': [tokenizer, tokenizer_porter],\n",
    "               'vect__preprocessor': [None, preprocessor],\n",
    "               'clf__C': [1.0, 10.0, 100.0]},\n",
    "              {'vect__ngram_range': [(1, 1)],\n",
    "               'vect__stop_words': [stop, None],\n",
    "               'vect__tokenizer': [tokenizer, tokenizer_porter],\n",
    "               'vect__preprocessor': [None, preprocessor],\n",
    "               'vect__use_idf':[False],\n",
    "               'vect__norm':[None],\n",
    "               'clf__C': [1.0, 10.0, 100.0]},\n",
    "              ]\n",
    "lr_tfidf = Pipeline([('vect', tfidf),('clf', LinearSVC(random_state=0))])\n",
    "gs_lr_tfidf = GridSearchCV(lr_tfidf, param_grid,\n",
    "                           scoring='accuracy',\n",
    "                           verbose=1,\n",
    "                           n_jobs=-1)"
   ]
  },
  {
   "cell_type": "code",
   "execution_count": 12,
   "metadata": {
    "collapsed": false
   },
   "outputs": [
    {
     "name": "stdout",
     "output_type": "stream",
     "text": [
      "Fitting 3 folds for each of 48 candidates, totalling 144 fits\n"
     ]
    },
    {
     "name": "stderr",
     "output_type": "stream",
     "text": [
      "[Parallel(n_jobs=-1)]: Done 144 out of 144 | elapsed:    3.8s finished\n"
     ]
    },
    {
     "data": {
      "text/plain": [
       "GridSearchCV(cv=None, error_score='raise',\n",
       "       estimator=Pipeline(memory=None,\n",
       "     steps=[('vect', TfidfVectorizer(analyzer=u'word', binary=False, decode_error=u'strict',\n",
       "        dtype=<type 'numpy.int64'>, encoding=u'utf-8', input=u'content',\n",
       "        lowercase=False, max_df=1.0, max_features=None, min_df=1,\n",
       "        ngram_range=(1, 1), norm=u'l2', preprocessor=None, smooth_idf=Tru..., max_iter=1000,\n",
       "     multi_class='ovr', penalty='l2', random_state=0, tol=0.0001,\n",
       "     verbose=0))]),\n",
       "       fit_params=None, iid=True, n_jobs=-1,\n",
       "       param_grid=[{'vect__ngram_range': [(1, 1)], 'vect__tokenizer': [<function tokenizer at 0x7f55861a7c80>, <function tokenizer_porter at 0x7f55861a7a28>], 'vect__preprocessor': [None, <function preprocessor at 0x7f55861a7aa0>], 'clf__C': [1.0, 10.0, 100.0], 'vect__stop_words': [[u'i', u'me', u'my', u'm...ction tokenizer_porter at 0x7f55861a7a28>], 'vect__use_idf': [False], 'clf__C': [1.0, 10.0, 100.0]}],\n",
       "       pre_dispatch='2*n_jobs', refit=True, return_train_score='warn',\n",
       "       scoring='accuracy', verbose=1)"
      ]
     },
     "execution_count": 12,
     "metadata": {},
     "output_type": "execute_result"
    }
   ],
   "source": [
    "gs_lr_tfidf.fit(X_train, Y_train)"
   ]
  },
  {
   "cell_type": "code",
   "execution_count": 13,
   "metadata": {
    "collapsed": false
   },
   "outputs": [
    {
     "name": "stdout",
     "output_type": "stream",
     "text": [
      "Best parameter set: {'vect__ngram_range': (1, 1), 'vect__tokenizer': <function tokenizer_porter at 0x7f55861a7a28>, 'vect__preprocessor': None, 'vect__stop_words': None, 'vect__norm': None, 'vect__use_idf': False, 'clf__C': 1.0}\n",
      "Best accuracy: 0.793\n"
     ]
    }
   ],
   "source": [
    "print('Best parameter set: ' + str(gs_lr_tfidf.best_params_))\n",
    "print('Best accuracy: %.3f' % gs_lr_tfidf.best_score_)"
   ]
  },
  {
   "cell_type": "code",
   "execution_count": 14,
   "metadata": {
    "collapsed": false
   },
   "outputs": [
    {
     "name": "stdout",
     "output_type": "stream",
     "text": [
      "Accuracy in test: 0.848\n"
     ]
    }
   ],
   "source": [
    "clf = gs_lr_tfidf.best_estimator_\n",
    "print('Accuracy in test: %.3f' % clf.score(X_test, Y_test))"
   ]
  },
  {
   "cell_type": "code",
   "execution_count": 15,
   "metadata": {
    "collapsed": false
   },
   "outputs": [
    {
     "name": "stdout",
     "output_type": "stream",
     "text": [
      "give ur feedback: our college aptitude class was very bored and waste of time\n",
      "Feedback Negative: {BAD}=  -1\n"
     ]
    }
   ],
   "source": [
    "twits = []\n",
    "user_feedback = raw_input(\"give ur feedback: \")\n",
    "twits.append(user_feedback)\n",
    "\n",
    "preds = clf.predict(twits)\n",
    "\n",
    "for i in range(len(twits)):\n",
    "    #print(preds[i], twits[i])\n",
    "    if preds[i] == -1:\n",
    "        print \"Feedback Negative: {BAD}= \",(preds[i])\n",
    "    elif preds[i] == 1:\n",
    "        print \"Feedback Positive: {GOOD}=\",(preds[i])\n",
    "    else:\n",
    "        print \"Feedback neutral: {AVERAGE}=\",(preds[i])"
   ]
  }
 ],
 "metadata": {
  "kernelspec": {
   "display_name": "Python 2",
   "language": "python",
   "name": "python2"
  },
  "language_info": {
   "codemirror_mode": {
    "name": "ipython",
    "version": 2
   },
   "file_extension": ".py",
   "mimetype": "text/x-python",
   "name": "python",
   "nbconvert_exporter": "python",
   "pygments_lexer": "ipython2",
   "version": "2.7.13"
  }
 },
 "nbformat": 4,
 "nbformat_minor": 2
}
